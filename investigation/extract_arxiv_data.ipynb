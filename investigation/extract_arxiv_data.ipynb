{
 "cells": [
  {
   "cell_type": "markdown",
   "metadata": {},
   "source": [
    "Useful links:\n",
    "- https://info.arxiv.org/help/api/user-manual.html#3111-search_query-and-id_list-logic \n",
    "- https://info.arxiv.org/help/api/user-manual.html#3321-title-id-published-and-updated"
   ]
  },
  {
   "cell_type": "code",
   "execution_count": 2,
   "metadata": {},
   "outputs": [
    {
     "name": "stdout",
     "output_type": "stream",
     "text": [
      "dict_keys(['id', 'guidislink', 'link', 'updated', 'updated_parsed', 'published', 'published_parsed', 'title', 'title_detail', 'summary', 'summary_detail', 'authors', 'author_detail', 'author', 'arxiv_comment', 'links', 'arxiv_primary_category', 'tags'])\n"
     ]
    }
   ],
   "source": [
    "import feedparser\n",
    "\n",
    "# ArXiv API URL\n",
    "url = 'http://export.arxiv.org/api/query?search_query=abs:RAG&start=0&max_results=1000&sortBy=lastUpdatedDate&sortOrder=descending'\n",
    "\n",
    "# Parse the API response\n",
    "feed = feedparser.parse(url)\n",
    "\n",
    "print(feed.entries[0].keys())"
   ]
  },
  {
   "cell_type": "code",
   "execution_count": 5,
   "metadata": {},
   "outputs": [
    {
     "data": {
      "text/plain": [
       "feedparser.util.FeedParserDict"
      ]
     },
     "execution_count": 5,
     "metadata": {},
     "output_type": "execute_result"
    }
   ],
   "source": [
    "type(feed.entries[0])"
   ]
  },
  {
   "cell_type": "code",
   "execution_count": 18,
   "metadata": {},
   "outputs": [
    {
     "name": "stdout",
     "output_type": "stream",
     "text": [
      "Data saved to c:\\Users\\sagarwa2\\Documents\\personal\\projects\\arxiv_chatbot\\data\\arxiv_papers.json\n"
     ]
    }
   ],
   "source": [
    "import json\n",
    "import pathlib\n",
    "\n",
    "SAVE_PATH = pathlib.Path.cwd().parent / \"data/arxiv_papers.json\"\n",
    "\n",
    "# Save to a JSON file\n",
    "with open(SAVE_PATH, \"w\") as f:\n",
    "    json.dump(feed.entries, f, indent=4)\n",
    "print(f\"Data saved to {SAVE_PATH}\")"
   ]
  },
  {
   "cell_type": "code",
   "execution_count": null,
   "metadata": {},
   "outputs": [],
   "source": [
    "# Loop through the entries (papers)\n",
    "for entry in feed.entries:\n",
    "    title = entry.title\n",
    "    abstract = entry.summary\n",
    "    authors = \", \".join([author.name for author in entry.authors])\n",
    "\n",
    "    print(f\"Title: {title}\")\n",
    "    print(f\"Abstract: {abstract}\")\n",
    "    print(f\"Authors: {authors}\")\n",
    "    print(\"------\")"
   ]
  }
 ],
 "metadata": {
  "kernelspec": {
   "display_name": "arxiv_chatbot",
   "language": "python",
   "name": "python3"
  },
  "language_info": {
   "codemirror_mode": {
    "name": "ipython",
    "version": 3
   },
   "file_extension": ".py",
   "mimetype": "text/x-python",
   "name": "python",
   "nbconvert_exporter": "python",
   "pygments_lexer": "ipython3",
   "version": "3.9.21"
  }
 },
 "nbformat": 4,
 "nbformat_minor": 2
}
