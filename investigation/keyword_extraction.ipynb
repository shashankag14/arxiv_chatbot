{
 "cells": [
  {
   "cell_type": "code",
   "execution_count": 6,
   "metadata": {},
   "outputs": [
    {
     "name": "stdout",
     "output_type": "stream",
     "text": [
      "['rags', 'llms', 'chatbots', 'use', 'answering']\n"
     ]
    }
   ],
   "source": [
    "from keybert import KeyBERT\n",
    "\n",
    "kw_model = KeyBERT()\n",
    "question = \"How to use RAGs in LLMs for question answering or chatbots?\"\n",
    "keywords = kw_model.extract_keywords(question, keyphrase_ngram_range=(1, 1), stop_words='english')\n",
    "\n",
    "print([kw[0] for kw in keywords])  # Extract only the keyword strings\n"
   ]
  },
  {
   "cell_type": "code",
   "execution_count": 10,
   "metadata": {},
   "outputs": [
    {
     "name": "stdout",
     "output_type": "stream",
     "text": [
      "['use', 'RAGs', 'LLMs', 'question', 'answering', 'chatbots']\n"
     ]
    }
   ],
   "source": [
    "import spacy\n",
    "\n",
    "# Download with `python -m spacy download en_core_web_sm`\n",
    "nlp = spacy.load(\"en_core_web_sm\")\n",
    "# question = \"What are the latest advancements in deep learning for self-driving cars?\"\n",
    "question = \"How to use RAGs in LLMs for question answering or chatbots?\"\n",
    "doc = nlp(question)\n",
    "\n",
    "keywords = [token.text for token in doc if token.is_alpha and not token.is_stop]\n",
    "print(keywords)"
   ]
  }
 ],
 "metadata": {
  "kernelspec": {
   "display_name": "arxiv",
   "language": "python",
   "name": "python3"
  },
  "language_info": {
   "codemirror_mode": {
    "name": "ipython",
    "version": 3
   },
   "file_extension": ".py",
   "mimetype": "text/x-python",
   "name": "python",
   "nbconvert_exporter": "python",
   "pygments_lexer": "ipython3",
   "version": "3.9.21"
  }
 },
 "nbformat": 4,
 "nbformat_minor": 2
}
